{
  "cells": [
    {
      "cell_type": "code",
      "execution_count": null,
      "metadata": {
        "id": "hZ3xRUR39dNn"
      },
      "outputs": [],
      "source": [
        "!mkdir -p ~/.kaggle\n",
        "!cp kaggle.json ~/.kaggle/"
      ]
    },
    {
      "cell_type": "code",
      "execution_count": null,
      "metadata": {
        "colab": {
          "base_uri": "https://localhost:8080/"
        },
        "id": "jHo6GHm49xpL",
        "outputId": "3dc8ec54-e6c8-4907-dae1-fb70a4507aea"
      },
      "outputs": [
        {
          "output_type": "stream",
          "name": "stdout",
          "text": [
            "Warning: Your Kaggle API key is readable by other users on this system! To fix this, you can run 'chmod 600 /root/.kaggle/kaggle.json'\n",
            "Downloading chest-xray-pneumonia.zip to /content\n",
            " 99% 2.27G/2.29G [00:19<00:00, 97.8MB/s]\n",
            "100% 2.29G/2.29G [00:20<00:00, 123MB/s] \n"
          ]
        }
      ],
      "source": [
        "!kaggle datasets download -d paultimothymooney/chest-xray-pneumonia"
      ]
    },
    {
      "cell_type": "markdown",
      "metadata": {
        "id": "xaNFffpD0IaT"
      },
      "source": []
    },
    {
      "cell_type": "code",
      "execution_count": null,
      "metadata": {
        "id": "rFETh0z1QLmH"
      },
      "outputs": [],
      "source": [
        "import zipfile\n",
        "zip_ref = zipfile.ZipFile('/content/chest-xray-pneumonia.zip', 'r')\n",
        "zip_ref.extractall('/content')\n",
        "zip_ref.close()"
      ]
    },
    {
      "cell_type": "code",
      "execution_count": null,
      "metadata": {
        "colab": {
          "base_uri": "https://localhost:8080/"
        },
        "id": "4GB9r_YtPqbR",
        "outputId": "3bfe351f-93fd-441c-e814-3615b0ba9ba8"
      },
      "outputs": [
        {
          "output_type": "stream",
          "name": "stdout",
          "text": [
            "Requirement already satisfied: glob2 in /usr/local/lib/python3.10/dist-packages (0.7)\n"
          ]
        }
      ],
      "source": [
        "pip install glob2"
      ]
    },
    {
      "cell_type": "markdown",
      "metadata": {
        "id": "DM9HAfSD9a73"
      },
      "source": [
        "Import all the necessary modules that are available in keras like ImageDataGenerator, Model, Dense, Flatten and all. We will be creating a generic code which means that we just have to change the library name then our code will automatically work with respect to VGG16, VGG19 and resnet50."
      ]
    },
    {
      "cell_type": "code",
      "execution_count": null,
      "metadata": {
        "id": "MfqPQRWlQAfE"
      },
      "outputs": [],
      "source": [
        "from keras.models import Model\n",
        "from keras.layers import Flatten,Dense\n",
        "from keras.applications.vgg19 import VGG19\n",
        "import matplotlib.pyplot as plot\n",
        "from glob import glob\n",
        "from tensorflow.keras.layers import Input\n"
      ]
    },
    {
      "cell_type": "markdown",
      "metadata": {
        "id": "zllIkr3M9dd3"
      },
      "source": [
        "After this, we will provide our image size i.e 224 x 224 this is a fixed-size for VGG16 architecture. 3 signifies that we are working with RGB type of images. Then we will provide our training and testing data path."
      ]
    },
    {
      "cell_type": "code",
      "execution_count": null,
      "metadata": {
        "id": "aCuCYgw2QIkA"
      },
      "outputs": [],
      "source": [
        "IMAGESHAPE = [224, 224, 3]\n",
        "training_data = '/content/chest_xray/train'\n",
        "testing_data = '/content/chest_xray/test'\n"
      ]
    },
    {
      "cell_type": "markdown",
      "metadata": {
        "id": "NSHKDDvY9j5y"
      },
      "source": [
        "Now, we will import our VGG16 model. While importing we will use the weights of the imageNet & include_top=False signifies that we do not want to classify 1000 different categories present in imageNet our problem is all about two categories Pneumonia and Normal that’s why we are just dropping the first and last layers then we will just design our own layers and add it into VGG16"
      ]
    },
    {
      "cell_type": "code",
      "execution_count": null,
      "metadata": {
        "colab": {
          "base_uri": "https://localhost:8080/"
        },
        "id": "Dx9psSOBQ4eJ",
        "outputId": "0d069cfb-0402-4204-f58a-ed574cd869e1"
      },
      "outputs": [
        {
          "output_type": "stream",
          "name": "stdout",
          "text": [
            "Downloading data from https://storage.googleapis.com/tensorflow/keras-applications/vgg19/vgg19_weights_tf_dim_ordering_tf_kernels_notop.h5\n",
            "80134624/80134624 [==============================] - 0s 0us/step\n"
          ]
        }
      ],
      "source": [
        "vgg_model = VGG19(input_shape=IMAGESHAPE, weights='imagenet', include_top=False)\n"
      ]
    },
    {
      "cell_type": "markdown",
      "metadata": {
        "id": "tbrL6j_Q9oHg"
      },
      "source": [
        "After importing VGG16 model, we have to make this important change. By using the for loop iterating over all layers and setting the trainable as False, so that all the layers would not be trained."
      ]
    },
    {
      "cell_type": "code",
      "execution_count": null,
      "metadata": {
        "id": "IxrEeWvgQ64l"
      },
      "outputs": [],
      "source": [
        "for each_layer in vgg_model.layers:\n",
        "\teach_layer.trainable = False\n"
      ]
    },
    {
      "cell_type": "markdown",
      "metadata": {
        "id": "5l_NOgT29sJC"
      },
      "source": [
        "We will try to see how many classes are present in our train dataset to understand how many output labels we should have."
      ]
    },
    {
      "cell_type": "code",
      "execution_count": null,
      "metadata": {
        "id": "HF9FDGp0Q90N"
      },
      "outputs": [],
      "source": [
        "classes = glob('/content/chest_xray/train/*')\n"
      ]
    },
    {
      "cell_type": "markdown",
      "metadata": {
        "id": "vgOz92Xb9wsq"
      },
      "source": [
        "As we deleted the first and the last columns in the previous step, We will just make a flattened layer and finally we just add our last layer with a softmax activation function. len(classes) indicate how many categories we have in our output layer."
      ]
    },
    {
      "cell_type": "code",
      "execution_count": null,
      "metadata": {
        "id": "AM5aikf7RH88"
      },
      "outputs": [],
      "source": [
        "flatten_layer = Flatten()(vgg_model.output)\n",
        "prediction = Dense(len(classes), activation='softmax')(flatten_layer)\n"
      ]
    },
    {
      "cell_type": "markdown",
      "metadata": {
        "id": "7arAEB7195YA"
      },
      "source": [
        "Now we will combine the VGG output and prediction, this all together will create a model. When we check the model summary we can observe that the last layer have only two categories."
      ]
    },
    {
      "cell_type": "code",
      "execution_count": null,
      "metadata": {
        "colab": {
          "base_uri": "https://localhost:8080/"
        },
        "id": "xYEBNQ10RJRk",
        "outputId": "f13b24bf-deaf-4d84-ff7a-b929a5306274"
      },
      "outputs": [
        {
          "output_type": "stream",
          "name": "stdout",
          "text": [
            "Model: \"model\"\n",
            "_________________________________________________________________\n",
            " Layer (type)                Output Shape              Param #   \n",
            "=================================================================\n",
            " input_2 (InputLayer)        [(None, 224, 224, 3)]     0         \n",
            "                                                                 \n",
            " block1_conv1 (Conv2D)       (None, 224, 224, 64)      1792      \n",
            "                                                                 \n",
            " block1_conv2 (Conv2D)       (None, 224, 224, 64)      36928     \n",
            "                                                                 \n",
            " block1_pool (MaxPooling2D)  (None, 112, 112, 64)      0         \n",
            "                                                                 \n",
            " block2_conv1 (Conv2D)       (None, 112, 112, 128)     73856     \n",
            "                                                                 \n",
            " block2_conv2 (Conv2D)       (None, 112, 112, 128)     147584    \n",
            "                                                                 \n",
            " block2_pool (MaxPooling2D)  (None, 56, 56, 128)       0         \n",
            "                                                                 \n",
            " block3_conv1 (Conv2D)       (None, 56, 56, 256)       295168    \n",
            "                                                                 \n",
            " block3_conv2 (Conv2D)       (None, 56, 56, 256)       590080    \n",
            "                                                                 \n",
            " block3_conv3 (Conv2D)       (None, 56, 56, 256)       590080    \n",
            "                                                                 \n",
            " block3_conv4 (Conv2D)       (None, 56, 56, 256)       590080    \n",
            "                                                                 \n",
            " block3_pool (MaxPooling2D)  (None, 28, 28, 256)       0         \n",
            "                                                                 \n",
            " block4_conv1 (Conv2D)       (None, 28, 28, 512)       1180160   \n",
            "                                                                 \n",
            " block4_conv2 (Conv2D)       (None, 28, 28, 512)       2359808   \n",
            "                                                                 \n",
            " block4_conv3 (Conv2D)       (None, 28, 28, 512)       2359808   \n",
            "                                                                 \n",
            " block4_conv4 (Conv2D)       (None, 28, 28, 512)       2359808   \n",
            "                                                                 \n",
            " block4_pool (MaxPooling2D)  (None, 14, 14, 512)       0         \n",
            "                                                                 \n",
            " block5_conv1 (Conv2D)       (None, 14, 14, 512)       2359808   \n",
            "                                                                 \n",
            " block5_conv2 (Conv2D)       (None, 14, 14, 512)       2359808   \n",
            "                                                                 \n",
            " block5_conv3 (Conv2D)       (None, 14, 14, 512)       2359808   \n",
            "                                                                 \n",
            " block5_conv4 (Conv2D)       (None, 14, 14, 512)       2359808   \n",
            "                                                                 \n",
            " block5_pool (MaxPooling2D)  (None, 7, 7, 512)         0         \n",
            "                                                                 \n",
            " flatten_1 (Flatten)         (None, 25088)             0         \n",
            "                                                                 \n",
            " dense_1 (Dense)             (None, 2)                 50178     \n",
            "                                                                 \n",
            "=================================================================\n",
            "Total params: 20074562 (76.58 MB)\n",
            "Trainable params: 50178 (196.01 KB)\n",
            "Non-trainable params: 20024384 (76.39 MB)\n",
            "_________________________________________________________________\n"
          ]
        }
      ],
      "source": [
        "final_model = Model(inputs=vgg_model.input, outputs=prediction)\n",
        "final_model.summary()\n"
      ]
    },
    {
      "cell_type": "markdown",
      "metadata": {
        "id": "DpqUcX4F99om"
      },
      "source": [
        "Now we will compile our model using adam optimizer and optimization metric as accuracy."
      ]
    },
    {
      "cell_type": "code",
      "execution_count": null,
      "metadata": {
        "id": "pIMlR4XqRM59"
      },
      "outputs": [],
      "source": [
        "final_model.compile(\n",
        "loss='categorical_crossentropy',\n",
        "optimizer='adam',\n",
        "metrics=['accuracy']\n",
        ")\n"
      ]
    },
    {
      "cell_type": "markdown",
      "metadata": {
        "id": "gWa9iwSC-K3H"
      },
      "source": [
        "After compiling the model, we have to import our dataset to Keras using ImageDataGenerator in Keras. For creating additional features we use metrics like rescale, shear_range, zoom_range these will help us in the training and testing phases."
      ]
    },
    {
      "cell_type": "code",
      "execution_count": null,
      "metadata": {
        "id": "C86MhZNFRSnq"
      },
      "outputs": [],
      "source": [
        "from keras.preprocessing.image import ImageDataGenerator\n",
        "train_datagen = ImageDataGenerator(rescale = 1./255,\n",
        "\t\t\t\t\t\t\t\tshear_range = 0.2,\n",
        "\t\t\t\t\t\t\t\tzoom_range = 0.2,\n",
        "\t\t\t\t\t\t\t\thorizontal_flip = True)\n",
        "testing_datagen = ImageDataGenerator(rescale =1. / 255)\n",
        "\n"
      ]
    },
    {
      "cell_type": "markdown",
      "metadata": {
        "id": "3a6iLMnJ-XZA"
      },
      "source": [
        "Now we will insert the images using flow_from_directory() function. Make sure that here we have to pass the same image size as we initiated earlier. Batch size 4 indicates that at once 4 images will be given for training. Class_mode is Categorical i.e either Pneumonia or Not Pneumonia."
      ]
    },
    {
      "cell_type": "code",
      "execution_count": null,
      "metadata": {
        "colab": {
          "base_uri": "https://localhost:8080/"
        },
        "id": "hVjrFFSJRSeJ",
        "outputId": "9e1db6ef-c03c-4a40-acbb-65445abbee28"
      },
      "outputs": [
        {
          "output_type": "stream",
          "name": "stdout",
          "text": [
            "Found 5216 images belonging to 2 classes.\n"
          ]
        }
      ],
      "source": [
        "training_set = train_datagen.flow_from_directory('/content/chest_xray/train',\n",
        "\t\t\t\t\t\t\t\t\t\t\t\ttarget_size = (224, 224),\n",
        "\t\t\t\t\t\t\t\t\t\t\t\tbatch_size = 4,\n",
        "\t\t\t\t\t\t\t\t\t\t\t\tclass_mode = 'categorical')\n"
      ]
    },
    {
      "cell_type": "markdown",
      "metadata": {
        "id": "bARWVETL-Ynd"
      },
      "source": [
        "Similarly, we will do the same for the test dataset what we did for the train dataset."
      ]
    },
    {
      "cell_type": "code",
      "execution_count": null,
      "metadata": {
        "colab": {
          "base_uri": "https://localhost:8080/"
        },
        "id": "-wIc4OJKRa6K",
        "outputId": "a872db04-ad29-4b27-a4a1-fa631e26b9e0"
      },
      "outputs": [
        {
          "output_type": "stream",
          "name": "stdout",
          "text": [
            "Found 624 images belonging to 2 classes.\n"
          ]
        }
      ],
      "source": [
        "test_set = testing_datagen.flow_from_directory('/content/chest_xray/test',\n",
        "\t\t\t\t\t\t\t\t\t\t\ttarget_size = (224, 224),\n",
        "\t\t\t\t\t\t\t\t\t\t\tbatch_size = 4,\n",
        "\t\t\t\t\t\t\t\t\t\t\tclass_mode = 'categorical')\n"
      ]
    },
    {
      "cell_type": "markdown",
      "metadata": {
        "id": "l2jZddlx-dv0"
      },
      "source": [
        "Finally, we are fitting the model using fit_generator() function and passing all the necessary details regarding our training and testing dataset as arguments. This will take some time to execute"
      ]
    },
    {
      "cell_type": "code",
      "execution_count": null,
      "metadata": {
        "colab": {
          "base_uri": "https://localhost:8080/"
        },
        "id": "Lxqa6OsTRimQ",
        "outputId": "854dee61-a6d4-4d5c-8030-6560638b0cbe"
      },
      "outputs": [
        {
          "output_type": "stream",
          "name": "stdout",
          "text": [
            "Epoch 1/2\n"
          ]
        },
        {
          "output_type": "stream",
          "name": "stderr",
          "text": [
            "<ipython-input-26-44c2ddb95b84>:1: UserWarning: `Model.fit_generator` is deprecated and will be removed in a future version. Please use `Model.fit`, which supports generators.\n",
            "  fitted_model = final_model.fit_generator(\n"
          ]
        },
        {
          "output_type": "stream",
          "name": "stdout",
          "text": [
            "1304/1304 [==============================] - 148s 114ms/step - loss: 0.3179 - accuracy: 0.9371 - val_loss: 0.6939 - val_accuracy: 0.8942\n",
            "Epoch 2/2\n",
            "1304/1304 [==============================] - 128s 98ms/step - loss: 0.3551 - accuracy: 0.9402 - val_loss: 0.7845 - val_accuracy: 0.9022\n"
          ]
        }
      ],
      "source": [
        "fitted_model = final_model.fit_generator(\n",
        "training_set,\n",
        "validation_data=test_set,\n",
        "epochs=2\n",
        "                                          ,\n",
        "steps_per_epoch=len(training_set),\n",
        "validation_steps=len(test_set)\n",
        ")\n"
      ]
    },
    {
      "cell_type": "markdown",
      "metadata": {
        "id": "tI8SbXII-qGp"
      },
      "source": [
        "Create a model file and store this model. So that we don’t need to train the model every time we gave input"
      ]
    },
    {
      "cell_type": "code",
      "execution_count": null,
      "metadata": {
        "id": "MdV2LL65z7XW"
      },
      "outputs": [],
      "source": [
        "final_model.save('our_model.h5')\n"
      ]
    },
    {
      "cell_type": "markdown",
      "metadata": {
        "id": "LlvZ3E4e-wPl"
      },
      "source": [
        "Load the model that we created. Now read an image and preprocess the image finally we check what output our model is giving using model.predict() function."
      ]
    },
    {
      "cell_type": "code",
      "execution_count": null,
      "metadata": {
        "colab": {
          "base_uri": "https://localhost:8080/"
        },
        "id": "gameDc4m1ZbQ",
        "outputId": "c734f4f3-7ae1-4c30-f869-45b52e848d66"
      },
      "outputs": [
        {
          "output_type": "stream",
          "name": "stdout",
          "text": [
            "Requirement already satisfied: keras_preprocessing in /usr/local/lib/python3.10/dist-packages (1.1.2)\n",
            "Requirement already satisfied: numpy>=1.9.1 in /usr/local/lib/python3.10/dist-packages (from keras_preprocessing) (1.23.5)\n",
            "Requirement already satisfied: six>=1.9.0 in /usr/local/lib/python3.10/dist-packages (from keras_preprocessing) (1.16.0)\n"
          ]
        }
      ],
      "source": [
        "pip install keras_preprocessing\n"
      ]
    },
    {
      "cell_type": "code",
      "execution_count": null,
      "metadata": {
        "colab": {
          "background_save": true
        },
        "id": "eFor5S7p0se1",
        "outputId": "fa5c49c2-4dd9-4127-b177-c3c136892ad4"
      },
      "outputs": [
        {
          "name": "stdout",
          "output_type": "stream",
          "text": [
            "1/1 [==============================] - 1s 754ms/step\n",
            "Person is affected with Pneumonia.\n",
            "Predictions: [[0. 1.]]\n"
          ]
        },
        {
          "data": {
            "image/png": "[encoded data removed]",
            "text/plain": [
              "<PIL.Image.Image image mode=RGB size=224x224>"
            ]
          },
          "execution_count": 23,
          "metadata": {},
          "output_type": "execute_result"
        }
      ],
      "source": [
        "from keras_preprocessing import image\n",
        "from keras.models import load_model\n",
        "from keras.applications.vgg16 import preprocess_input\n",
        "import numpy as np\n",
        "model=load_model('our_model.h5') #Loading our model\n",
        "img=image.load_img('/content/chest_xray/train/PNEUMONIA/person1000_bacteria_2931.jpeg',target_size=(224,224))\n",
        "imagee=image.img_to_array(img) #Converting the X-Ray into pixels\n",
        "imagee=np.expand_dims(imagee, axis=0)\n",
        "img_data=preprocess_input(imagee)\n",
        "prediction=model.predict(img_data)\n",
        "if prediction[0][0]>prediction[0][1]: #Printing the prediction of model.\n",
        "\tprint('Person is safe.')\n",
        "else:\n",
        "\tprint('Person is affected with Pneumonia.')\n",
        "print(f'Predictions: {prediction}')\n",
        "img"
      ]
    }
  ],
  "metadata": {
    "accelerator": "GPU",
    "colab": {
      "provenance": [],
      "gpuType": "T4"
    },
    "kernelspec": {
      "display_name": "Python 3",
      "name": "python3"
    },
    "language_info": {
      "name": "python"
    }
  },
  "nbformat": 4,
  "nbformat_minor": 0
}